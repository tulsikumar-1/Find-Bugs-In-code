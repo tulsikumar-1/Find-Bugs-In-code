{
  "nbformat": 4,
  "nbformat_minor": 5,
  "metadata": {
    "colab": {
      "provenance": [],
      "toc_visible": true
    },
    "kernelspec": {
      "display_name": "Python 3 (ipykernel)",
      "language": "python",
      "name": "python3"
    },
    "language_info": {
      "codemirror_mode": {
        "name": "ipython",
        "version": 3
      },
      "file_extension": ".py",
      "mimetype": "text/x-python",
      "name": "python",
      "nbconvert_exporter": "python",
      "pygments_lexer": "ipython3",
      "version": "3.10.0"
    }
  },
  "cells": [
    {
      "cell_type": "markdown",
      "metadata": {
        "id": "mhCzj-jFQHl6"
      },
      "source": [
        "Importing Libraries\n"
      ],
      "id": "mhCzj-jFQHl6"
    },
    {
      "cell_type": "code",
      "metadata": {
        "colab": {
          "base_uri": "https://localhost:8080/"
        },
        "id": "l3Q6tcv09_G1",
        "outputId": "a3357005-fedf-49ef-c1c2-23f66eeae471"
      },
      "source": [
        "from google.colab import drive\n",
        "drive.mount('/content/drive',force_remount=True)"
      ],
      "id": "l3Q6tcv09_G1",
      "execution_count": null,
      "outputs": [
        {
          "output_type": "stream",
          "name": "stdout",
          "text": [
            "Mounted at /content/drive\n"
          ]
        }
      ]
    },
    {
      "cell_type": "code",
      "metadata": {
        "colab": {
          "base_uri": "https://localhost:8080/"
        },
        "id": "H_v-ZuY9AZwT",
        "outputId": "465409cc-e88d-45e5-f868-bfc5a6adcb43"
      },
      "source": [
        "!ls"
      ],
      "id": "H_v-ZuY9AZwT",
      "execution_count": null,
      "outputs": [
        {
          "output_type": "stream",
          "name": "stdout",
          "text": [
            "shell-init: error retrieving current directory: getcwd: cannot access parent directories: Transport endpoint is not connected\n",
            "ls: cannot open directory '.': Transport endpoint is not connected\n"
          ]
        }
      ]
    },
    {
      "cell_type": "code",
      "metadata": {
        "colab": {
          "base_uri": "https://localhost:8080/"
        },
        "id": "j_qlNgnQAsKo",
        "outputId": "efbcd13c-7af7-425b-be88-da40371d5e18"
      },
      "source": [
        "!ls"
      ],
      "id": "j_qlNgnQAsKo",
      "execution_count": null,
      "outputs": [
        {
          "output_type": "stream",
          "name": "stdout",
          "text": [
            "'Colab Notebooks'\t     'Deep Learning'\t     Q.gdoc\n",
            "'cv10eu (1)-converted.gdoc'  'IOT (1).gdoc'\t    'To-do list.gsheet'\n",
            "'cv10eu (2).gdoc'\t     'IOT assignment.gdoc'\n",
            "'cv10eu (2).pdf'\t      IOT.gdoc\n"
          ]
        }
      ]
    },
    {
      "cell_type": "code",
      "metadata": {
        "colab": {
          "base_uri": "https://localhost:8080/"
        },
        "id": "BZbPBOrFA3bv",
        "outputId": "c5d7f020-69df-41f3-9ea0-faf9d85877fe"
      },
      "source": [
        "%cd 'Colab Notebooks'\n",
        "!ls"
      ],
      "id": "BZbPBOrFA3bv",
      "execution_count": null,
      "outputs": [
        {
          "output_type": "stream",
          "name": "stdout",
          "text": [
            "/content/drive/MyDrive/Colab Notebooks\n",
            "'Assignment 1.ipynb'\t Output5.txt\t   Untitled1.ipynb\n",
            " blind_test.csv\t\t Output6.txt\n",
            " mapping_traces_O0.csv\t Untitled0.ipynb\n"
          ]
        }
      ]
    },
    {
      "cell_type": "markdown",
      "metadata": {
        "id": "QnmSn-BAc9bE"
      },
      "source": [
        "# New Section"
      ],
      "id": "QnmSn-BAc9bE"
    },
    {
      "cell_type": "code",
      "metadata": {
        "id": "8b3163ba"
      },
      "source": [
        "import pandas as pd\n",
        "from sklearn.feature_extraction.text import TfidfVectorizer\n",
        "from sklearn.model_selection import train_test_split\n",
        "from sklearn.tree import DecisionTreeClassifier\n",
        "from sklearn.ensemble import RandomForestClassifier\n",
        "import numpy as np\n",
        "from sklearn.metrics import classification_report\n",
        "\n"
      ],
      "id": "8b3163ba",
      "execution_count": null,
      "outputs": []
    },
    {
      "cell_type": "code",
      "metadata": {
        "id": "Z1YU7JP5WmFJ"
      },
      "source": [
        "def Extract_features(data): \n",
        "  v = TfidfVectorizer()\n",
        "  a = v.fit_transform(data)\n",
        "  a1 = pd.DataFrame(a.toarray(), columns=v.get_feature_names_out())\n",
        "  return a1"
      ],
      "id": "Z1YU7JP5WmFJ",
      "execution_count": null,
      "outputs": []
    },
    {
      "cell_type": "markdown",
      "metadata": {
        "id": "2cW6kDTx6Qcf"
      },
      "source": [
        "Reading data set and extracting features(Preprocessing)"
      ],
      "id": "2cW6kDTx6Qcf"
    },
    {
      "cell_type": "code",
      "metadata": {
        "collapsed": true,
        "id": "168db222",
        "colab": {
          "base_uri": "https://localhost:8080/"
        },
        "outputId": "dcef8a2d-7eb4-4a1c-8769-9cf2e25ad14d"
      },
      "source": [
        "Trainer = pd.read_csv ('mapping_traces_O0.csv',delimiter='\\t')\n",
        "print(Trainer)\n",
        "a = Extract_features(Trainer['instructions'])\n",
        "b = Extract_features(Trainer['source_line'])\n",
        "c = Extract_features(Trainer['function_name'])\n",
        "d = Extract_features(Trainer['program'])\n",
        "e=Trainer['line_number']\n",
        "e = np.expand_dims(e, axis=1)\n",
        "#print(e.shape)\n",
        "TrainerX = np.hstack((a,b,c,d,e))\n"
      ],
      "id": "168db222",
      "execution_count": null,
      "outputs": [
        {
          "output_type": "stream",
          "name": "stdout",
          "text": [
            "                                            instructions  ... bug\n",
            "0                                   movl HIGHVAL l 19 1   ...   0\n",
            "1                                   movl HIGHVAL l 82 6   ...   1\n",
            "2      movq l 15 07 5 %rcx movq l 15 06 1 %rax movq M...  ...   0\n",
            "3      movabsq HIGHVAL %rax cmpq %rax MEM je MEM mova...  ...   1\n",
            "4                                  movw HIGHVAL l 41 89   ...   0\n",
            "...                                                  ...  ...  ..\n",
            "99995        movsbl MEM %eax addq 48 %rsp popq %rbp retq  ...   0\n",
            "99996                               movl HIGHVAL l 74 2   ...   0\n",
            "99997                          movw MEM %ax movb %al MEM  ...   1\n",
            "99998                     leaq l 53 %rax movq %rax l 87   ...   0\n",
            "99999                                movb -92 l 15 43 9   ...   0\n",
            "\n",
            "[100000 rows x 6 columns]\n"
          ]
        }
      ]
    },
    {
      "cell_type": "code",
      "metadata": {
        "colab": {
          "base_uri": "https://localhost:8080/"
        },
        "id": "1-clxsOsem2u",
        "outputId": "2f5b6dfd-da71-4674-f265-2298a6fe92e2"
      },
      "source": [
        "TrainerX"
      ],
      "id": "1-clxsOsem2u",
      "execution_count": null,
      "outputs": [
        {
          "output_type": "execute_result",
          "data": {
            "text/plain": [
              "array([[0.00000000e+00, 0.00000000e+00, 0.00000000e+00, ...,\n",
              "        0.00000000e+00, 1.33671727e-01, 2.51700000e+03],\n",
              "       [0.00000000e+00, 0.00000000e+00, 0.00000000e+00, ...,\n",
              "        0.00000000e+00, 1.37173557e-01, 1.99400000e+03],\n",
              "       [0.00000000e+00, 0.00000000e+00, 0.00000000e+00, ...,\n",
              "        0.00000000e+00, 0.00000000e+00, 2.17100000e+03],\n",
              "       ...,\n",
              "       [0.00000000e+00, 0.00000000e+00, 0.00000000e+00, ...,\n",
              "        0.00000000e+00, 1.43693076e-01, 1.89000000e+03],\n",
              "       [0.00000000e+00, 0.00000000e+00, 0.00000000e+00, ...,\n",
              "        0.00000000e+00, 1.32008101e-01, 2.08000000e+03],\n",
              "       [0.00000000e+00, 0.00000000e+00, 0.00000000e+00, ...,\n",
              "        0.00000000e+00, 0.00000000e+00, 1.94100000e+03]])"
            ]
          },
          "metadata": {},
          "execution_count": 13
        }
      ]
    },
    {
      "cell_type": "code",
      "metadata": {
        "id": "cLX-JpiJemk5"
      },
      "source": [],
      "id": "cLX-JpiJemk5",
      "execution_count": null,
      "outputs": []
    },
    {
      "cell_type": "markdown",
      "metadata": {
        "id": "BVPR6z7s6Y03"
      },
      "source": [
        "Separating Tag from the data set"
      ],
      "id": "BVPR6z7s6Y03"
    },
    {
      "cell_type": "code",
      "metadata": {
        "id": "tpOWBbmSRY5n"
      },
      "source": [
        "TrainerY=Trainer['bug']\n",
        "TrainerY= np.expand_dims(TrainerY, axis=1)"
      ],
      "id": "tpOWBbmSRY5n",
      "execution_count": null,
      "outputs": []
    },
    {
      "cell_type": "markdown",
      "metadata": {
        "id": "Nj5NBsCh6dGN"
      },
      "source": [
        "Spliting data in 2/3 for test and 1/3 for cross validation"
      ],
      "id": "Nj5NBsCh6dGN"
    },
    {
      "cell_type": "code",
      "metadata": {
        "id": "c4ffdf90"
      },
      "source": [
        "X_train, X_test, y_train, y_test = train_test_split(TrainerX, TrainerY, test_size=0.33, random_state=42)"
      ],
      "id": "c4ffdf90",
      "execution_count": null,
      "outputs": []
    },
    {
      "cell_type": "markdown",
      "metadata": {
        "id": "ZGaSTzwL6mj5"
      },
      "source": [
        "Apply Decision Tree Classfier"
      ],
      "id": "ZGaSTzwL6mj5"
    },
    {
      "cell_type": "code",
      "metadata": {
        "colab": {
          "base_uri": "https://localhost:8080/"
        },
        "id": "CU3BM92QRWrH",
        "outputId": "3d4ea013-1228-4b08-dc0d-9b02244505a6"
      },
      "source": [
        "clf = DecisionTreeClassifier(random_state=0)\n",
        "clf.fit(X_train,y_train)\n",
        "print('Accuracy of Decision Tree Classifier is:' + clf.score(X_test,y_test).astype('str'))\n",
        "y_predict= clf.predict(X_test)\n",
        "print(classification_report(y_train[34000:],y_predict))"
      ],
      "id": "CU3BM92QRWrH",
      "execution_count": null,
      "outputs": [
        {
          "output_type": "stream",
          "name": "stdout",
          "text": [
            "Accuracy of Decision Tree Classifier is:0.8763636363636363\n",
            "              precision    recall  f1-score   support\n",
            "\n",
            "           0       0.50      0.51      0.51     16389\n",
            "           1       0.51      0.49      0.50     16611\n",
            "\n",
            "    accuracy                           0.50     33000\n",
            "   macro avg       0.50      0.50      0.50     33000\n",
            "weighted avg       0.50      0.50      0.50     33000\n",
            "\n"
          ]
        }
      ]
    },
    {
      "cell_type": "markdown",
      "metadata": {
        "id": "yg6pnWc06u6x"
      },
      "source": [
        "Applying Random Forest Classfier"
      ],
      "id": "yg6pnWc06u6x"
    },
    {
      "cell_type": "code",
      "metadata": {
        "colab": {
          "base_uri": "https://localhost:8080/"
        },
        "id": "4OfJN6Zpj1tl",
        "outputId": "3500257a-9bac-4a0a-8d30-2f559bb57fd7"
      },
      "source": [
        "clf1 = RandomForestClassifier(n_jobs=-1)\n",
        "clf1.fit(X_train,y_train)\n",
        "clf1.score(X_test,y_test)\n",
        "\n"
      ],
      "id": "4OfJN6Zpj1tl",
      "execution_count": null,
      "outputs": [
        {
          "output_type": "stream",
          "name": "stderr",
          "text": [
            "/usr/local/lib/python3.7/dist-packages/ipykernel_launcher.py:2: DataConversionWarning: A column-vector y was passed when a 1d array was expected. Please change the shape of y to (n_samples,), for example using ravel().\n",
            "  \n"
          ]
        },
        {
          "output_type": "execute_result",
          "data": {
            "text/plain": [
              "0.9298181818181818"
            ]
          },
          "metadata": {},
          "execution_count": 17
        }
      ]
    },
    {
      "cell_type": "code",
      "metadata": {
        "colab": {
          "base_uri": "https://localhost:8080/"
        },
        "id": "6SVHfcwSA6_-",
        "outputId": "a42a0a6c-8983-4865-f3fc-b7f6f097c335"
      },
      "source": [
        "print('Accuracy of Random Forest Classifier is:' + clf1.score(X_test,y_test).astype('str'))\n",
        "y_predict= clf1.predict(X_test)\n",
        "print(classification_report(y_train[34000:],y_predict))"
      ],
      "id": "6SVHfcwSA6_-",
      "execution_count": null,
      "outputs": [
        {
          "output_type": "stream",
          "name": "stdout",
          "text": [
            "Accuracy of Random Forest Classifier is:0.9298181818181818\n",
            "              precision    recall  f1-score   support\n",
            "\n",
            "           0       0.50      0.54      0.52     16389\n",
            "           1       0.51      0.47      0.48     16611\n",
            "\n",
            "    accuracy                           0.50     33000\n",
            "   macro avg       0.50      0.50      0.50     33000\n",
            "weighted avg       0.50      0.50      0.50     33000\n",
            "\n"
          ]
        }
      ]
    },
    {
      "cell_type": "markdown",
      "metadata": {
        "id": "TV0Kj82261f8"
      },
      "source": [
        "Reading Blind test data and extracting features"
      ],
      "id": "TV0Kj82261f8"
    },
    {
      "cell_type": "code",
      "metadata": {
        "id": "l_K8_cxxuOf6"
      },
      "source": [
        "Test= pd.read_csv ('blind_test.csv',delimiter='\\t')\n",
        "#print(Test)\n",
        "a = Extract_features(Test['instructions'])\n",
        "b = Extract_features(Test['source_line'])\n",
        "c = Extract_features(Test['function_name'])\n",
        "d = Extract_features(Test['program'])\n",
        "e=Test['line_number']\n",
        "e = np.expand_dims(e, axis=1)\n",
        "#print(e.shape)\n",
        "TestX = np.hstack((a,b,c,d,e))"
      ],
      "id": "l_K8_cxxuOf6",
      "execution_count": null,
      "outputs": []
    },
    {
      "cell_type": "code",
      "metadata": {
        "colab": {
          "base_uri": "https://localhost:8080/",
          "height": 424
        },
        "id": "rNMWvKdFj_f1",
        "outputId": "756af981-8866-4b9a-cbf4-61d168cc973a"
      },
      "source": [
        "Test"
      ],
      "id": "rNMWvKdFj_f1",
      "execution_count": null,
      "outputs": [
        {
          "output_type": "execute_result",
          "data": {
            "text/html": [
              "<div>\n",
              "<style scoped>\n",
              "    .dataframe tbody tr th:only-of-type {\n",
              "        vertical-align: middle;\n",
              "    }\n",
              "\n",
              "    .dataframe tbody tr th {\n",
              "        vertical-align: top;\n",
              "    }\n",
              "\n",
              "    .dataframe thead th {\n",
              "        text-align: right;\n",
              "    }\n",
              "</style>\n",
              "<table border=\"1\" class=\"dataframe\">\n",
              "  <thead>\n",
              "    <tr style=\"text-align: right;\">\n",
              "      <th></th>\n",
              "      <th>instructions</th>\n",
              "      <th>source_line</th>\n",
              "      <th>line_number</th>\n",
              "      <th>function_name</th>\n",
              "      <th>program</th>\n",
              "    </tr>\n",
              "  </thead>\n",
              "  <tbody>\n",
              "    <tr>\n",
              "      <th>0</th>\n",
              "      <td>movl HIGHVAL MEM cmpl 7 MEM jne MEM</td>\n",
              "      <td>volatile int32t  l  48 76  = 0 ;</td>\n",
              "      <td>1903</td>\n",
              "      <td>func_1__0</td>\n",
              "      <td>/home/stepping/data_source_asm_trace_p2/proces...</td>\n",
              "    </tr>\n",
              "    <tr>\n",
              "      <th>1</th>\n",
              "      <td>movl MEM %eax subl 1 %eax movl %eax MEM jmp ME...</td>\n",
              "      <td>for (  p  81  = 0 ; (  p  81  &gt; = 0 ) ;  p  81...</td>\n",
              "      <td>2238</td>\n",
              "      <td>func_80__0</td>\n",
              "      <td>/home/stepping/data_source_asm_trace_p2/proces...</td>\n",
              "    </tr>\n",
              "    <tr>\n",
              "      <th>2</th>\n",
              "      <td>leaq l 53 72 %rax movq %rax l 58 31</td>\n",
              "      <td>int32t *  l  58 31  = &amp;  l  53 72  ;</td>\n",
              "      <td>1958</td>\n",
              "      <td>func_2__0</td>\n",
              "      <td>/data_source_asm_trace_train_o0_p3/process_28/...</td>\n",
              "    </tr>\n",
              "    <tr>\n",
              "      <th>3</th>\n",
              "      <td>leaq l 47 %rax movq %rax l 65</td>\n",
              "      <td>int32t *  l  65  = &amp;  l  47  ;</td>\n",
              "      <td>2907</td>\n",
              "      <td>func_39__0</td>\n",
              "      <td>/home/stepping/data_source_asm_trace_p2/proces...</td>\n",
              "    </tr>\n",
              "    <tr>\n",
              "      <th>4</th>\n",
              "      <td>movq MEM %rax cmpl 0 MEM je MEM</td>\n",
              "      <td>if ( ( *  g  31 79  ) )</td>\n",
              "      <td>1988</td>\n",
              "      <td>func_11__0</td>\n",
              "      <td>/home/stepping/data_source_asm_trace_p2/proces...</td>\n",
              "    </tr>\n",
              "    <tr>\n",
              "      <th>...</th>\n",
              "      <td>...</td>\n",
              "      <td>...</td>\n",
              "      <td>...</td>\n",
              "      <td>...</td>\n",
              "      <td>...</td>\n",
              "    </tr>\n",
              "    <tr>\n",
              "      <th>9995</th>\n",
              "      <td>movl 9 l 51 76</td>\n",
              "      <td>int32t  l  45 69  = ( - 1 ) ;</td>\n",
              "      <td>2346</td>\n",
              "      <td>func_21__0</td>\n",
              "      <td>/home/stepping/data_source_asm_trace_p2/proces...</td>\n",
              "    </tr>\n",
              "    <tr>\n",
              "      <th>9996</th>\n",
              "      <td>leaq l 21 %rdi movabsq \"&lt; `\" %rsi movl HIGHVAL...</td>\n",
              "      <td>int32t *  l  21  [ 7 ] [ 5 ] [ 7 ] = { { { &amp;  ...</td>\n",
              "      <td>1773</td>\n",
              "      <td>func_1__0</td>\n",
              "      <td>/home/stepping/data_source_asm_trace_p2/proces...</td>\n",
              "    </tr>\n",
              "    <tr>\n",
              "      <th>9997</th>\n",
              "      <td>movabsq HIGHVAL %rax movq %rax l 16 50</td>\n",
              "      <td>int8t * * * * *  l  16 50  = &amp;  g  13 65  ;</td>\n",
              "      <td>2628</td>\n",
              "      <td>func_68__0</td>\n",
              "      <td>/home/stepping/data_source_asm_trace_p2/proces...</td>\n",
              "    </tr>\n",
              "    <tr>\n",
              "      <th>9998</th>\n",
              "      <td>movabsq HIGHVAL %rax movq %rax l 81 4</td>\n",
              "      <td>int32t * * *  l  81 4  = &amp;  g  82  ;</td>\n",
              "      <td>2819</td>\n",
              "      <td>func_26__0</td>\n",
              "      <td>/home/stepping/data_source_asm_trace_p2/proces...</td>\n",
              "    </tr>\n",
              "    <tr>\n",
              "      <th>9999</th>\n",
              "      <td>movabsq HIGHVAL %rax movq %rax l 22 4</td>\n",
              "      <td>int32t *  l  43 98  = &amp;  g  35 42  ;</td>\n",
              "      <td>3863</td>\n",
              "      <td>func_43__0</td>\n",
              "      <td>/data_source_asm_trace_train_o0_p3/process_12/...</td>\n",
              "    </tr>\n",
              "  </tbody>\n",
              "</table>\n",
              "<p>10000 rows × 5 columns</p>\n",
              "</div>"
            ],
            "text/plain": [
              "                                           instructions  ...                                            program\n",
              "0                  movl HIGHVAL MEM cmpl 7 MEM jne MEM   ...  /home/stepping/data_source_asm_trace_p2/proces...\n",
              "1     movl MEM %eax subl 1 %eax movl %eax MEM jmp ME...  ...  /home/stepping/data_source_asm_trace_p2/proces...\n",
              "2                  leaq l 53 72 %rax movq %rax l 58 31   ...  /data_source_asm_trace_train_o0_p3/process_28/...\n",
              "3                        leaq l 47 %rax movq %rax l 65   ...  /home/stepping/data_source_asm_trace_p2/proces...\n",
              "4                      movq MEM %rax cmpl 0 MEM je MEM   ...  /home/stepping/data_source_asm_trace_p2/proces...\n",
              "...                                                 ...  ...                                                ...\n",
              "9995                                    movl 9 l 51 76   ...  /home/stepping/data_source_asm_trace_p2/proces...\n",
              "9996  leaq l 21 %rdi movabsq \"< `\" %rsi movl HIGHVAL...  ...  /home/stepping/data_source_asm_trace_p2/proces...\n",
              "9997            movabsq HIGHVAL %rax movq %rax l 16 50   ...  /home/stepping/data_source_asm_trace_p2/proces...\n",
              "9998             movabsq HIGHVAL %rax movq %rax l 81 4   ...  /home/stepping/data_source_asm_trace_p2/proces...\n",
              "9999             movabsq HIGHVAL %rax movq %rax l 22 4   ...  /data_source_asm_trace_train_o0_p3/process_12/...\n",
              "\n",
              "[10000 rows x 5 columns]"
            ]
          },
          "metadata": {},
          "execution_count": 20
        }
      ]
    },
    {
      "cell_type": "markdown",
      "metadata": {
        "id": "bOkbge9F8q1W"
      },
      "source": [
        "Changing the shape of TestX to match the shape of TrainerX"
      ],
      "id": "bOkbge9F8q1W"
    },
    {
      "cell_type": "code",
      "metadata": {
        "colab": {
          "base_uri": "https://localhost:8080/"
        },
        "id": "Er2D_FkZ2gpV",
        "outputId": "3507257e-31c1-4acc-88eb-b42398b09345"
      },
      "source": [
        "R1 = np. size(TestX, 0)\n",
        "C1 = np. size(TestX, 1)\n",
        "C2 = np. size(TrainerX, 1)\n",
        "Extra = np.zeros((R1, C2-C1))\n",
        "Extra.shape\n",
        "TestN = np.hstack((TestX,Extra))\n",
        "TestN.shape"
      ],
      "id": "Er2D_FkZ2gpV",
      "execution_count": null,
      "outputs": [
        {
          "output_type": "execute_result",
          "data": {
            "text/plain": [
              "(10000, 2869)"
            ]
          },
          "metadata": {},
          "execution_count": 21
        }
      ]
    },
    {
      "cell_type": "code",
      "metadata": {
        "id": "09QsONUQxROP"
      },
      "source": [
        "Predicted_bug = clf.predict(TestN)\n",
        "Predicted_bug=Predicted_bug.astype(int)\n",
        "\n",
        "np.savetxt('1992703a.txt', Predicted_bug, fmt='%s')\n",
        "\n",
        "Predicted_bug1 = clf1.predict(TestN)\n",
        "Predicted_bug1= Predicted_bug1.astype(int)\n",
        "np.savetxt('1992703b.txt',Predicted_bug1,fmt='%s')"
      ],
      "id": "09QsONUQxROP",
      "execution_count": null,
      "outputs": []
    },
    {
      "cell_type": "code",
      "metadata": {
        "id": "T_79EGcAxRE8",
        "colab": {
          "base_uri": "https://localhost:8080/"
        },
        "outputId": "7f190372-7844-45ea-d637-f24d0d1571d2"
      },
      "source": [
        "Predicted_bug\n",
        "\n"
      ],
      "id": "T_79EGcAxRE8",
      "execution_count": null,
      "outputs": [
        {
          "output_type": "execute_result",
          "data": {
            "text/plain": [
              "array([0, 0, 0, ..., 0, 1, 0])"
            ]
          },
          "metadata": {},
          "execution_count": 23
        }
      ]
    },
    {
      "cell_type": "code",
      "metadata": {
        "id": "XhbLVjt5adQW"
      },
      "source": [],
      "id": "XhbLVjt5adQW",
      "execution_count": null,
      "outputs": []
    }
  ]
}